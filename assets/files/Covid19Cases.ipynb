{
  "nbformat": 4,
  "nbformat_minor": 0,
  "metadata": {
    "colab": {
      "name": "FinalProjectNoahLitwiller.ipynb",
      "provenance": [],
      "collapsed_sections": []
    },
    "kernelspec": {
      "name": "python3",
      "display_name": "Python 3"
    }
  },
  "cells": [
    {
      "cell_type": "markdown",
      "metadata": {
        "id": "qDShBb3HAo6r"
      },
      "source": [
        "# Active COVID-19 Cases in US Counties\n",
        "Noah Litwiller"
      ]
    },
    {
      "cell_type": "markdown",
      "metadata": {
        "id": "gXBw7xeH6Psk"
      },
      "source": [
        "This purpose of this project is to use COVID-19 data from US counties to predict the number of active cases in the top 10 US counties. The dataset used was provided by the Center for Systems Science and Engineering at John Hopkins University. The data was taken on May 1st, 2020. For the purposes of this project, we will use the following attributes from the dataset:\n",
        "\n",
        "*Lat*: The latitude of the county \\\n",
        "*Long_*: The longitutde of the county \\\n",
        "*Confirmed*: The total number of confirmed COVID-19 cases in the county \\\n",
        "*Deaths*: The total number of deaths from COVID-19 in the county \\\n",
        "*Recovered*: The total number of patients who have recovered from COVID-19 in the county \\\n",
        "*Active*: The number of people who currently have COVID-19 in the county. This is the attribute we will attempt to predict.\n",
        "\n",
        "**Top 10 US counties by population (of the counties present in the dataset):**\n",
        "1. Los Angeles, CA\n",
        "2. Cook, IL\n",
        "3. Harris, TX\n",
        "4. Maricopa, AZ\n",
        "5. San Diego, CA\n",
        "6. Orange, CA\n",
        "7. Miami-Dade, FL\n",
        "8. Dallas, TX\n",
        "9. Riverside, CA\n",
        "10. King, WA\n",
        "\n",
        "**Pre-processing**\n",
        "\n",
        "Before pre-processing the data, I first selected only the records for US counties from the dataset. There were 2916 of these records, 10 of which are the top 10 counties that will be used for testing. For pre-processing I normalized the data and replaced any NaN values with the mean of their respective column. \n",
        "\n",
        "**Model Methodology** \n",
        "\n",
        "Since *Active* is a countinuous attribute, I chose to use a Stochastic Gradient Descent Regressor model. The squared_epsilon_insensitive loss function is used to create a balance between fitting outliers and more centralized data. The adaptive learning rate ensures the model continues to improve efficiently. I also chose to shuffle the data after each epoch to avoid overfitting."
      ]
    },
    {
      "cell_type": "markdown",
      "metadata": {
        "id": "0DXY2Y1O9TXY"
      },
      "source": [
        "# Import Data"
      ]
    },
    {
      "cell_type": "code",
      "metadata": {
        "id": "KdxYDSnD6IJJ"
      },
      "source": [
        "import pandas as pd\n",
        "\n",
        "#from https://github.com/CSSEGISandData/COVID-19/blob/df78742b57976079cad11110560ad6628742c134/csse_covid_19_data/csse_covid_19_daily_reports/05-01-2020.csv\n",
        "covid5_1_20 = pd.read_csv(\"https://raw.githubusercontent.com/CSSEGISandData/COVID-19/df78742b57976079cad11110560ad6628742c134/csse_covid_19_data/csse_covid_19_daily_reports/05-01-2020.csv\")"
      ],
      "execution_count": null,
      "outputs": []
    },
    {
      "cell_type": "code",
      "metadata": {
        "id": "Od9NB5zx9RmP",
        "colab": {
          "base_uri": "https://localhost:8080/",
          "height": 402
        },
        "outputId": "e39f5af2-87bc-4db3-d6a1-adfc9f4bc64a"
      },
      "source": [
        "covid5_1_20"
      ],
      "execution_count": null,
      "outputs": [
        {
          "output_type": "execute_result",
          "data": {
            "text/html": [
              "<div>\n",
              "<style scoped>\n",
              "    .dataframe tbody tr th:only-of-type {\n",
              "        vertical-align: middle;\n",
              "    }\n",
              "\n",
              "    .dataframe tbody tr th {\n",
              "        vertical-align: top;\n",
              "    }\n",
              "\n",
              "    .dataframe thead th {\n",
              "        text-align: right;\n",
              "    }\n",
              "</style>\n",
              "<table border=\"1\" class=\"dataframe\">\n",
              "  <thead>\n",
              "    <tr style=\"text-align: right;\">\n",
              "      <th></th>\n",
              "      <th>FIPS</th>\n",
              "      <th>Admin2</th>\n",
              "      <th>Province_State</th>\n",
              "      <th>Country_Region</th>\n",
              "      <th>Last_Update</th>\n",
              "      <th>Lat</th>\n",
              "      <th>Long_</th>\n",
              "      <th>Confirmed</th>\n",
              "      <th>Deaths</th>\n",
              "      <th>Recovered</th>\n",
              "      <th>Active</th>\n",
              "      <th>Combined_Key</th>\n",
              "    </tr>\n",
              "  </thead>\n",
              "  <tbody>\n",
              "    <tr>\n",
              "      <th>0</th>\n",
              "      <td>45001.0</td>\n",
              "      <td>Abbeville</td>\n",
              "      <td>South Carolina</td>\n",
              "      <td>US</td>\n",
              "      <td>2020-05-02 02:32:27</td>\n",
              "      <td>34.223334</td>\n",
              "      <td>-82.461707</td>\n",
              "      <td>31</td>\n",
              "      <td>0</td>\n",
              "      <td>0</td>\n",
              "      <td>31</td>\n",
              "      <td>Abbeville, South Carolina, US</td>\n",
              "    </tr>\n",
              "    <tr>\n",
              "      <th>1</th>\n",
              "      <td>22001.0</td>\n",
              "      <td>Acadia</td>\n",
              "      <td>Louisiana</td>\n",
              "      <td>US</td>\n",
              "      <td>2020-05-02 02:32:27</td>\n",
              "      <td>30.295065</td>\n",
              "      <td>-92.414197</td>\n",
              "      <td>133</td>\n",
              "      <td>10</td>\n",
              "      <td>0</td>\n",
              "      <td>123</td>\n",
              "      <td>Acadia, Louisiana, US</td>\n",
              "    </tr>\n",
              "    <tr>\n",
              "      <th>2</th>\n",
              "      <td>51001.0</td>\n",
              "      <td>Accomack</td>\n",
              "      <td>Virginia</td>\n",
              "      <td>US</td>\n",
              "      <td>2020-05-02 02:32:27</td>\n",
              "      <td>37.767072</td>\n",
              "      <td>-75.632346</td>\n",
              "      <td>303</td>\n",
              "      <td>5</td>\n",
              "      <td>0</td>\n",
              "      <td>298</td>\n",
              "      <td>Accomack, Virginia, US</td>\n",
              "    </tr>\n",
              "    <tr>\n",
              "      <th>3</th>\n",
              "      <td>16001.0</td>\n",
              "      <td>Ada</td>\n",
              "      <td>Idaho</td>\n",
              "      <td>US</td>\n",
              "      <td>2020-05-02 02:32:27</td>\n",
              "      <td>43.452658</td>\n",
              "      <td>-116.241552</td>\n",
              "      <td>681</td>\n",
              "      <td>16</td>\n",
              "      <td>0</td>\n",
              "      <td>665</td>\n",
              "      <td>Ada, Idaho, US</td>\n",
              "    </tr>\n",
              "    <tr>\n",
              "      <th>4</th>\n",
              "      <td>19001.0</td>\n",
              "      <td>Adair</td>\n",
              "      <td>Iowa</td>\n",
              "      <td>US</td>\n",
              "      <td>2020-05-02 02:32:27</td>\n",
              "      <td>41.330756</td>\n",
              "      <td>-94.471059</td>\n",
              "      <td>1</td>\n",
              "      <td>0</td>\n",
              "      <td>0</td>\n",
              "      <td>1</td>\n",
              "      <td>Adair, Iowa, US</td>\n",
              "    </tr>\n",
              "    <tr>\n",
              "      <th>...</th>\n",
              "      <td>...</td>\n",
              "      <td>...</td>\n",
              "      <td>...</td>\n",
              "      <td>...</td>\n",
              "      <td>...</td>\n",
              "      <td>...</td>\n",
              "      <td>...</td>\n",
              "      <td>...</td>\n",
              "      <td>...</td>\n",
              "      <td>...</td>\n",
              "      <td>...</td>\n",
              "      <td>...</td>\n",
              "    </tr>\n",
              "    <tr>\n",
              "      <th>3183</th>\n",
              "      <td>NaN</td>\n",
              "      <td>NaN</td>\n",
              "      <td>NaN</td>\n",
              "      <td>West Bank and Gaza</td>\n",
              "      <td>2020-05-02 02:32:27</td>\n",
              "      <td>31.952200</td>\n",
              "      <td>35.233200</td>\n",
              "      <td>353</td>\n",
              "      <td>2</td>\n",
              "      <td>76</td>\n",
              "      <td>275</td>\n",
              "      <td>West Bank and Gaza</td>\n",
              "    </tr>\n",
              "    <tr>\n",
              "      <th>3184</th>\n",
              "      <td>NaN</td>\n",
              "      <td>NaN</td>\n",
              "      <td>NaN</td>\n",
              "      <td>Western Sahara</td>\n",
              "      <td>2020-05-02 02:32:27</td>\n",
              "      <td>24.215500</td>\n",
              "      <td>-12.885800</td>\n",
              "      <td>6</td>\n",
              "      <td>0</td>\n",
              "      <td>5</td>\n",
              "      <td>1</td>\n",
              "      <td>Western Sahara</td>\n",
              "    </tr>\n",
              "    <tr>\n",
              "      <th>3185</th>\n",
              "      <td>NaN</td>\n",
              "      <td>NaN</td>\n",
              "      <td>NaN</td>\n",
              "      <td>Yemen</td>\n",
              "      <td>2020-05-02 02:32:27</td>\n",
              "      <td>15.552727</td>\n",
              "      <td>48.516388</td>\n",
              "      <td>7</td>\n",
              "      <td>2</td>\n",
              "      <td>1</td>\n",
              "      <td>4</td>\n",
              "      <td>Yemen</td>\n",
              "    </tr>\n",
              "    <tr>\n",
              "      <th>3186</th>\n",
              "      <td>NaN</td>\n",
              "      <td>NaN</td>\n",
              "      <td>NaN</td>\n",
              "      <td>Zambia</td>\n",
              "      <td>2020-05-02 02:32:27</td>\n",
              "      <td>-13.133897</td>\n",
              "      <td>27.849332</td>\n",
              "      <td>109</td>\n",
              "      <td>3</td>\n",
              "      <td>74</td>\n",
              "      <td>32</td>\n",
              "      <td>Zambia</td>\n",
              "    </tr>\n",
              "    <tr>\n",
              "      <th>3187</th>\n",
              "      <td>NaN</td>\n",
              "      <td>NaN</td>\n",
              "      <td>NaN</td>\n",
              "      <td>Zimbabwe</td>\n",
              "      <td>2020-05-02 02:32:27</td>\n",
              "      <td>-19.015438</td>\n",
              "      <td>29.154857</td>\n",
              "      <td>40</td>\n",
              "      <td>4</td>\n",
              "      <td>5</td>\n",
              "      <td>31</td>\n",
              "      <td>Zimbabwe</td>\n",
              "    </tr>\n",
              "  </tbody>\n",
              "</table>\n",
              "<p>3188 rows × 12 columns</p>\n",
              "</div>"
            ],
            "text/plain": [
              "         FIPS     Admin2  ... Active                   Combined_Key\n",
              "0     45001.0  Abbeville  ...     31  Abbeville, South Carolina, US\n",
              "1     22001.0     Acadia  ...    123          Acadia, Louisiana, US\n",
              "2     51001.0   Accomack  ...    298         Accomack, Virginia, US\n",
              "3     16001.0        Ada  ...    665                 Ada, Idaho, US\n",
              "4     19001.0      Adair  ...      1                Adair, Iowa, US\n",
              "...       ...        ...  ...    ...                            ...\n",
              "3183      NaN        NaN  ...    275             West Bank and Gaza\n",
              "3184      NaN        NaN  ...      1                 Western Sahara\n",
              "3185      NaN        NaN  ...      4                          Yemen\n",
              "3186      NaN        NaN  ...     32                         Zambia\n",
              "3187      NaN        NaN  ...     31                       Zimbabwe\n",
              "\n",
              "[3188 rows x 12 columns]"
            ]
          },
          "metadata": {
            "tags": []
          },
          "execution_count": 21
        }
      ]
    },
    {
      "cell_type": "markdown",
      "metadata": {
        "id": "8bxfeaHD9W_f"
      },
      "source": [
        "# Data Pre-processing"
      ]
    },
    {
      "cell_type": "code",
      "metadata": {
        "id": "C7-BuPJACXSa"
      },
      "source": [
        "import numpy as np\n",
        "from sklearn import preprocessing as pre\n",
        "from sklearn.impute import SimpleImputer\n",
        "\n",
        "covid5_1_20 = covid5_1_20.loc[0:2915,:] #Select only the records that are US counties\n",
        "\n",
        "X = covid5_1_20.loc[:,[\"Lat\", \"Long_\", \"Confirmed\", \"Deaths\", \"Recovered\"]]\n",
        "y = np.array(covid5_1_20.loc[:,\"Active\"])\n",
        "\n",
        "SI = SimpleImputer(missing_values=np.nan, strategy='mean')\n",
        "X = SI.fit_transform(X) #Replace NaN values with the mean of their column\n",
        "\n",
        "X = pre.normalize(X)\n",
        "\n",
        "#Use the top 10 US counties as test data\n",
        "X_test = X[[1546, 575, 1094, 1613, 2281, 1948, 1732, 652, 2219, 1356],:] \n",
        "y_test = y[[1546, 575, 1094, 1613, 2281, 1948, 1732, 652, 2219, 1356]]\n",
        "\n",
        "#Use all other US counties as training data\n",
        "X_train = np.delete(X,[1546, 575, 1094, 1613, 2281, 1948, 1732, 652, 2219, 1356], 0) \n",
        "y_train = np.delete(y, [1546, 575, 1094, 1613, 2281, 1948, 1732, 652, 2219, 1356], 0)\n"
      ],
      "execution_count": null,
      "outputs": []
    },
    {
      "cell_type": "markdown",
      "metadata": {
        "id": "NZi-UxttQrns"
      },
      "source": [
        "# SGD Regressor"
      ]
    },
    {
      "cell_type": "code",
      "metadata": {
        "id": "qFLrhIH3QRkV",
        "colab": {
          "base_uri": "https://localhost:8080/",
          "height": 34
        },
        "outputId": "207573b2-e083-426c-ca6f-eb16e51f26a8"
      },
      "source": [
        "from sklearn import linear_model\n",
        "\n",
        "SGDRegressor = linear_model.SGDRegressor(learning_rate=\"adaptive\", random_state=40, shuffle=True, max_iter=100000, loss=\"squared_epsilon_insensitive\",\n",
        "                                          penalty=\"l1\")\n",
        "SGDRegressor.fit(X_train, y_train)\n",
        "\n",
        "yPredicted = SGDRegressor.predict(X_test)\n",
        "meanError = np.abs(np.mean(yPredicted - y_test))\n",
        "print(\"Mean error: %.0f\" % meanError)\n"
      ],
      "execution_count": null,
      "outputs": [
        {
          "output_type": "stream",
          "text": [
            "Mean error: 7212\n"
          ],
          "name": "stdout"
        }
      ]
    },
    {
      "cell_type": "markdown",
      "metadata": {
        "id": "c9zaYXy0SKwJ"
      },
      "source": [
        "# Predicted Active Cases vs. Actual Active Cases"
      ]
    },
    {
      "cell_type": "code",
      "metadata": {
        "id": "pKejiKDEOi7n",
        "colab": {
          "base_uri": "https://localhost:8080/",
          "height": 343
        },
        "outputId": "f1c26bb7-b906-4a5c-ff95-a745fac838bb"
      },
      "source": [
        "yComparison = {'County' : [\"Los Angeles, CA\", \"Cook, IL\", \"Harris, TX\", \"Maricopa, AZ\", \"San Diego, CA\", \"Orange, CA\", \"Miami-Dade, FL\", \"Dallas, TX\", \"Riverside, CA\", \"King, WA\"],\n",
        "               'Actual Active Cases': y_test, 'Predicted Active Cases': yPredicted}\n",
        "yComparisonDF = pd.DataFrame(data=yComparison)\n",
        "yComparisonDF\n"
      ],
      "execution_count": null,
      "outputs": [
        {
          "output_type": "execute_result",
          "data": {
            "text/html": [
              "<div>\n",
              "<style scoped>\n",
              "    .dataframe tbody tr th:only-of-type {\n",
              "        vertical-align: middle;\n",
              "    }\n",
              "\n",
              "    .dataframe tbody tr th {\n",
              "        vertical-align: top;\n",
              "    }\n",
              "\n",
              "    .dataframe thead th {\n",
              "        text-align: right;\n",
              "    }\n",
              "</style>\n",
              "<table border=\"1\" class=\"dataframe\">\n",
              "  <thead>\n",
              "    <tr style=\"text-align: right;\">\n",
              "      <th></th>\n",
              "      <th>County</th>\n",
              "      <th>Actual Active Cases</th>\n",
              "      <th>Predicted Active Cases</th>\n",
              "    </tr>\n",
              "  </thead>\n",
              "  <tbody>\n",
              "    <tr>\n",
              "      <th>0</th>\n",
              "      <td>Los Angeles, CA</td>\n",
              "      <td>23088</td>\n",
              "      <td>3104.283344</td>\n",
              "    </tr>\n",
              "    <tr>\n",
              "      <th>1</th>\n",
              "      <td>Cook, IL</td>\n",
              "      <td>36995</td>\n",
              "      <td>3104.383795</td>\n",
              "    </tr>\n",
              "    <tr>\n",
              "      <th>2</th>\n",
              "      <td>Harris, TX</td>\n",
              "      <td>6429</td>\n",
              "      <td>2956.738042</td>\n",
              "    </tr>\n",
              "    <tr>\n",
              "      <th>3</th>\n",
              "      <td>Maricopa, AZ</td>\n",
              "      <td>4009</td>\n",
              "      <td>2928.693725</td>\n",
              "    </tr>\n",
              "    <tr>\n",
              "      <th>4</th>\n",
              "      <td>San Diego, CA</td>\n",
              "      <td>3440</td>\n",
              "      <td>2893.117291</td>\n",
              "    </tr>\n",
              "    <tr>\n",
              "      <th>5</th>\n",
              "      <td>Orange, CA</td>\n",
              "      <td>2487</td>\n",
              "      <td>2766.258101</td>\n",
              "    </tr>\n",
              "    <tr>\n",
              "      <th>6</th>\n",
              "      <td>Miami-Dade, FL</td>\n",
              "      <td>12031</td>\n",
              "      <td>3036.628666</td>\n",
              "    </tr>\n",
              "    <tr>\n",
              "      <th>7</th>\n",
              "      <td>Dallas, TX</td>\n",
              "      <td>3612</td>\n",
              "      <td>2912.664278</td>\n",
              "    </tr>\n",
              "    <tr>\n",
              "      <th>8</th>\n",
              "      <td>Riverside, CA</td>\n",
              "      <td>3923</td>\n",
              "      <td>2929.057489</td>\n",
              "    </tr>\n",
              "    <tr>\n",
              "      <th>9</th>\n",
              "      <td>King, WA</td>\n",
              "      <td>5822</td>\n",
              "      <td>3081.053929</td>\n",
              "    </tr>\n",
              "  </tbody>\n",
              "</table>\n",
              "</div>"
            ],
            "text/plain": [
              "            County  Actual Active Cases  Predicted Active Cases\n",
              "0  Los Angeles, CA                23088             3104.283344\n",
              "1         Cook, IL                36995             3104.383795\n",
              "2       Harris, TX                 6429             2956.738042\n",
              "3     Maricopa, AZ                 4009             2928.693725\n",
              "4    San Diego, CA                 3440             2893.117291\n",
              "5       Orange, CA                 2487             2766.258101\n",
              "6   Miami-Dade, FL                12031             3036.628666\n",
              "7       Dallas, TX                 3612             2912.664278\n",
              "8    Riverside, CA                 3923             2929.057489\n",
              "9         King, WA                 5822             3081.053929"
            ]
          },
          "metadata": {
            "tags": []
          },
          "execution_count": 24
        }
      ]
    },
    {
      "cell_type": "markdown",
      "metadata": {
        "id": "_yXmrkT450OG"
      },
      "source": [
        "# Conclusion"
      ]
    },
    {
      "cell_type": "markdown",
      "metadata": {
        "id": "NcbND5fp56WX"
      },
      "source": [
        "To make the effectiveness of this predictor more clear, we will use the metric of mean error to evaluate this model. This SGD model had a mean error of 7212 cases. This means the predicted active cases for a county were, on average, 7212 cases more or less than the actual number of active cases for that region. Looking at the above table, we can see that this regressor was much better at predicting counties with a lower number of actual active cases than those with a higher number of active cases. A possible reason for this behavior is that the vast majority of counties in the dataset had under 1,000 activate cases, with the average number of active cases being 355. \n",
        "\n",
        "A limitation of this project is the amount of data records used for prediction. Since 5 attributes are used for prediction, we should have approximately 100,000 records to train the model, but we only had 2915 training records in the dataset. There are less than 100,000 counties in the US, so using something more plentiful instead, such as cities, could train a more accurate model. Another limitation of this model is that it only considers one days worth of data. Global pandemics span over many days so any model not using a sequence of days for prediction fails to account for any trend that can be seen over time. \n",
        "\n",
        "\n",
        "\n"
      ]
    }
  ]
}